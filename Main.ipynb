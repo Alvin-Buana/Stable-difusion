{
 "cells": [
  {
   "attachments": {},
   "cell_type": "markdown",
   "id": "b5df160e-f282-4812-92b5-c33f2b082b72",
   "metadata": {},
   "source": [
    "# **Sentinel-1 and Sentinel-2 data fusion through Deep Learning**\n",
    "![](imgs/fusion_paradigms.png)\n",
    "\n",
    "In this notebook are presented several Deep Learning models to fuse Sentinel-1 and Sentinel-2 data for Land Cover Mapping. \n",
    "\n",
    "More details can be found in our paper [Sebastianelli et al.](https://arxiv.org/abs/2106.11056)"
   ]
  },
  {
   "attachments": {},
   "cell_type": "markdown",
   "id": "4be3f9c3-2e08-46bc-9778-321b3a855b89",
   "metadata": {},
   "source": [
    "**To re-train the models set the *TRAIN* flaf to *True*.**\n",
    "\n",
    "**If *TRAIN = False* pre-trained weights will be loaded.**"
   ]
  },
  {
   "cell_type": "code",
   "execution_count": 1,
   "id": "03bbd3a2",
   "metadata": {},
   "outputs": [
    {
     "name": "stdout",
     "output_type": "stream",
     "text": [
      "Requirement already satisfied: numpy in c:\\users\\alvin buana\\appdata\\roaming\\python\\python39\\site-packages (from -r requirements.txt (line 1)) (1.23.5)Note: you may need to restart the kernel to use updated packages.\n",
      "\n",
      "Requirement already satisfied: matplotlib in c:\\users\\alvin buana\\anaconda3\\envs\\newproject\\lib\\site-packages (from -r requirements.txt (line 2)) (3.7.1)\n",
      "Requirement already satisfied: rasterio in c:\\users\\alvin buana\\anaconda3\\envs\\newproject\\lib\\site-packages (from -r requirements.txt (line 3)) (1.3.6)\n",
      "Requirement already satisfied: tensorflow in c:\\users\\alvin buana\\anaconda3\\envs\\newproject\\lib\\site-packages (from -r requirements.txt (line 4)) (2.12.0)\n",
      "Collecting jupyterlab (from -r requirements.txt (line 5))\n",
      "  Downloading jupyterlab-3.6.3-py3-none-any.whl (8.9 MB)\n",
      "     ---------------------------------------- 8.9/8.9 MB 3.0 MB/s eta 0:00:00\n",
      "Collecting pydot (from -r requirements.txt (line 6))\n",
      "  Downloading pydot-1.4.2-py2.py3-none-any.whl (21 kB)\n",
      "Requirement already satisfied: scikit-learn in c:\\users\\alvin buana\\anaconda3\\envs\\newproject\\lib\\site-packages (from -r requirements.txt (line 7)) (1.2.2)\n",
      "Requirement already satisfied: opencv-python in c:\\users\\alvin buana\\anaconda3\\envs\\newproject\\lib\\site-packages (from -r requirements.txt (line 8)) (4.7.0.72)\n",
      "Requirement already satisfied: contourpy>=1.0.1 in c:\\users\\alvin buana\\anaconda3\\envs\\newproject\\lib\\site-packages (from matplotlib->-r requirements.txt (line 2)) (1.0.7)\n",
      "Requirement already satisfied: cycler>=0.10 in c:\\users\\alvin buana\\anaconda3\\envs\\newproject\\lib\\site-packages (from matplotlib->-r requirements.txt (line 2)) (0.11.0)\n",
      "Requirement already satisfied: fonttools>=4.22.0 in c:\\users\\alvin buana\\anaconda3\\envs\\newproject\\lib\\site-packages (from matplotlib->-r requirements.txt (line 2)) (4.39.0)\n",
      "Requirement already satisfied: kiwisolver>=1.0.1 in c:\\users\\alvin buana\\anaconda3\\envs\\newproject\\lib\\site-packages (from matplotlib->-r requirements.txt (line 2)) (1.4.4)\n",
      "Requirement already satisfied: packaging>=20.0 in c:\\users\\alvin buana\\anaconda3\\envs\\newproject\\lib\\site-packages (from matplotlib->-r requirements.txt (line 2)) (23.0)\n",
      "Requirement already satisfied: pillow>=6.2.0 in c:\\users\\alvin buana\\anaconda3\\envs\\newproject\\lib\\site-packages (from matplotlib->-r requirements.txt (line 2)) (9.4.0)\n",
      "Requirement already satisfied: pyparsing>=2.3.1 in c:\\users\\alvin buana\\anaconda3\\envs\\newproject\\lib\\site-packages (from matplotlib->-r requirements.txt (line 2)) (3.0.9)\n",
      "Requirement already satisfied: python-dateutil>=2.7 in c:\\users\\alvin buana\\anaconda3\\envs\\newproject\\lib\\site-packages (from matplotlib->-r requirements.txt (line 2)) (2.8.2)\n",
      "Requirement already satisfied: importlib-resources>=3.2.0 in c:\\users\\alvin buana\\anaconda3\\envs\\newproject\\lib\\site-packages (from matplotlib->-r requirements.txt (line 2)) (5.12.0)\n",
      "Requirement already satisfied: affine in c:\\users\\alvin buana\\anaconda3\\envs\\newproject\\lib\\site-packages (from rasterio->-r requirements.txt (line 3)) (2.4.0)\n",
      "Requirement already satisfied: attrs in c:\\users\\alvin buana\\anaconda3\\envs\\newproject\\lib\\site-packages (from rasterio->-r requirements.txt (line 3)) (22.2.0)\n",
      "Requirement already satisfied: certifi in c:\\users\\alvin buana\\anaconda3\\envs\\newproject\\lib\\site-packages (from rasterio->-r requirements.txt (line 3)) (2022.12.7)\n",
      "Requirement already satisfied: click>=4.0 in c:\\users\\alvin buana\\anaconda3\\envs\\newproject\\lib\\site-packages (from rasterio->-r requirements.txt (line 3)) (8.1.3)\n",
      "Requirement already satisfied: cligj>=0.5 in c:\\users\\alvin buana\\anaconda3\\envs\\newproject\\lib\\site-packages (from rasterio->-r requirements.txt (line 3)) (0.7.2)\n",
      "Requirement already satisfied: snuggs>=1.4.1 in c:\\users\\alvin buana\\anaconda3\\envs\\newproject\\lib\\site-packages (from rasterio->-r requirements.txt (line 3)) (1.4.7)\n",
      "Requirement already satisfied: click-plugins in c:\\users\\alvin buana\\anaconda3\\envs\\newproject\\lib\\site-packages (from rasterio->-r requirements.txt (line 3)) (1.1.1)\n",
      "Requirement already satisfied: setuptools in c:\\users\\alvin buana\\anaconda3\\envs\\newproject\\lib\\site-packages (from rasterio->-r requirements.txt (line 3)) (52.0.0.post20210125)\n",
      "Requirement already satisfied: tensorflow-intel==2.12.0 in c:\\users\\alvin buana\\anaconda3\\envs\\newproject\\lib\\site-packages (from tensorflow->-r requirements.txt (line 4)) (2.12.0)\n",
      "Requirement already satisfied: absl-py>=1.0.0 in c:\\users\\alvin buana\\anaconda3\\envs\\newproject\\lib\\site-packages (from tensorflow-intel==2.12.0->tensorflow->-r requirements.txt (line 4)) (1.4.0)\n",
      "Requirement already satisfied: astunparse>=1.6.0 in c:\\users\\alvin buana\\anaconda3\\envs\\newproject\\lib\\site-packages (from tensorflow-intel==2.12.0->tensorflow->-r requirements.txt (line 4)) (1.6.3)\n",
      "Requirement already satisfied: flatbuffers>=2.0 in c:\\users\\alvin buana\\anaconda3\\envs\\newproject\\lib\\site-packages (from tensorflow-intel==2.12.0->tensorflow->-r requirements.txt (line 4)) (23.3.3)\n",
      "Requirement already satisfied: gast<=0.4.0,>=0.2.1 in c:\\users\\alvin buana\\anaconda3\\envs\\newproject\\lib\\site-packages (from tensorflow-intel==2.12.0->tensorflow->-r requirements.txt (line 4)) (0.4.0)\n",
      "Requirement already satisfied: google-pasta>=0.1.1 in c:\\users\\alvin buana\\anaconda3\\envs\\newproject\\lib\\site-packages (from tensorflow-intel==2.12.0->tensorflow->-r requirements.txt (line 4)) (0.2.0)\n",
      "Requirement already satisfied: h5py>=2.9.0 in c:\\users\\alvin buana\\anaconda3\\envs\\newproject\\lib\\site-packages (from tensorflow-intel==2.12.0->tensorflow->-r requirements.txt (line 4)) (3.8.0)\n",
      "Requirement already satisfied: jax>=0.3.15 in c:\\users\\alvin buana\\anaconda3\\envs\\newproject\\lib\\site-packages (from tensorflow-intel==2.12.0->tensorflow->-r requirements.txt (line 4)) (0.4.6)\n",
      "Requirement already satisfied: libclang>=13.0.0 in c:\\users\\alvin buana\\anaconda3\\envs\\newproject\\lib\\site-packages (from tensorflow-intel==2.12.0->tensorflow->-r requirements.txt (line 4)) (16.0.0)\n",
      "Requirement already satisfied: opt-einsum>=2.3.2 in c:\\users\\alvin buana\\anaconda3\\envs\\newproject\\lib\\site-packages (from tensorflow-intel==2.12.0->tensorflow->-r requirements.txt (line 4)) (3.3.0)\n",
      "Requirement already satisfied: protobuf!=4.21.0,!=4.21.1,!=4.21.2,!=4.21.3,!=4.21.4,!=4.21.5,<5.0.0dev,>=3.20.3 in c:\\users\\alvin buana\\anaconda3\\envs\\newproject\\lib\\site-packages (from tensorflow-intel==2.12.0->tensorflow->-r requirements.txt (line 4)) (4.22.1)\n",
      "Requirement already satisfied: six>=1.12.0 in c:\\users\\alvin buana\\anaconda3\\envs\\newproject\\lib\\site-packages (from tensorflow-intel==2.12.0->tensorflow->-r requirements.txt (line 4)) (1.16.0)\n",
      "Requirement already satisfied: termcolor>=1.1.0 in c:\\users\\alvin buana\\anaconda3\\envs\\newproject\\lib\\site-packages (from tensorflow-intel==2.12.0->tensorflow->-r requirements.txt (line 4)) (2.2.0)\n",
      "Requirement already satisfied: typing-extensions>=3.6.6 in c:\\users\\alvin buana\\anaconda3\\envs\\newproject\\lib\\site-packages (from tensorflow-intel==2.12.0->tensorflow->-r requirements.txt (line 4)) (4.5.0)\n",
      "Requirement already satisfied: wrapt<1.15,>=1.11.0 in c:\\users\\alvin buana\\anaconda3\\envs\\newproject\\lib\\site-packages (from tensorflow-intel==2.12.0->tensorflow->-r requirements.txt (line 4)) (1.14.1)\n",
      "Requirement already satisfied: grpcio<2.0,>=1.24.3 in c:\\users\\alvin buana\\anaconda3\\envs\\newproject\\lib\\site-packages (from tensorflow-intel==2.12.0->tensorflow->-r requirements.txt (line 4)) (1.51.3)\n",
      "Requirement already satisfied: tensorboard<2.13,>=2.12 in c:\\users\\alvin buana\\anaconda3\\envs\\newproject\\lib\\site-packages (from tensorflow-intel==2.12.0->tensorflow->-r requirements.txt (line 4)) (2.12.0)\n",
      "Requirement already satisfied: tensorflow-estimator<2.13,>=2.12.0 in c:\\users\\alvin buana\\anaconda3\\envs\\newproject\\lib\\site-packages (from tensorflow-intel==2.12.0->tensorflow->-r requirements.txt (line 4)) (2.12.0)\n",
      "Requirement already satisfied: keras<2.13,>=2.12.0 in c:\\users\\alvin buana\\anaconda3\\envs\\newproject\\lib\\site-packages (from tensorflow-intel==2.12.0->tensorflow->-r requirements.txt (line 4)) (2.12.0)\n",
      "Requirement already satisfied: tensorflow-io-gcs-filesystem>=0.23.1 in c:\\users\\alvin buana\\anaconda3\\envs\\newproject\\lib\\site-packages (from tensorflow-intel==2.12.0->tensorflow->-r requirements.txt (line 4)) (0.31.0)\n",
      "Requirement already satisfied: ipython in c:\\users\\alvin buana\\anaconda3\\envs\\newproject\\lib\\site-packages (from jupyterlab->-r requirements.txt (line 5)) (8.11.0)\n",
      "Requirement already satisfied: tornado>=6.1.0 in c:\\users\\alvin buana\\anaconda3\\envs\\newproject\\lib\\site-packages (from jupyterlab->-r requirements.txt (line 5)) (6.2)\n",
      "Requirement already satisfied: jupyter-core in c:\\users\\alvin buana\\appdata\\roaming\\python\\python39\\site-packages (from jupyterlab->-r requirements.txt (line 5)) (5.1.2)\n",
      "Collecting jupyterlab-server~=2.19 (from jupyterlab->-r requirements.txt (line 5))\n",
      "  Downloading jupyterlab_server-2.22.1-py3-none-any.whl (57 kB)\n",
      "     ---------------------------------------- 57.0/57.0 kB ? eta 0:00:00\n",
      "Requirement already satisfied: jupyter-server<3,>=1.16.0 in c:\\users\\alvin buana\\appdata\\roaming\\python\\python39\\site-packages (from jupyterlab->-r requirements.txt (line 5)) (2.0.6)\n",
      "Collecting jupyter-ydoc~=0.2.3 (from jupyterlab->-r requirements.txt (line 5))\n",
      "  Downloading jupyter_ydoc-0.2.4-py3-none-any.whl (5.9 kB)\n",
      "Collecting jupyter-server-ydoc~=0.8.0 (from jupyterlab->-r requirements.txt (line 5))\n",
      "  Downloading jupyter_server_ydoc-0.8.0-py3-none-any.whl (11 kB)\n",
      "Requirement already satisfied: nbclassic in c:\\users\\alvin buana\\appdata\\roaming\\python\\python39\\site-packages (from jupyterlab->-r requirements.txt (line 5)) (0.4.8)\n",
      "Requirement already satisfied: notebook<7 in c:\\users\\alvin buana\\appdata\\roaming\\python\\python39\\site-packages (from jupyterlab->-r requirements.txt (line 5)) (6.5.2)\n",
      "Requirement already satisfied: jinja2>=2.1 in c:\\users\\alvin buana\\appdata\\roaming\\python\\python39\\site-packages (from jupyterlab->-r requirements.txt (line 5)) (3.1.2)\n",
      "Requirement already satisfied: tomli in c:\\users\\alvin buana\\anaconda3\\envs\\newproject\\lib\\site-packages (from jupyterlab->-r requirements.txt (line 5)) (2.0.1)\n",
      "Requirement already satisfied: scipy>=1.3.2 in c:\\users\\alvin buana\\anaconda3\\envs\\newproject\\lib\\site-packages (from scikit-learn->-r requirements.txt (line 7)) (1.10.1)\n",
      "Requirement already satisfied: joblib>=1.1.1 in c:\\users\\alvin buana\\appdata\\roaming\\python\\python39\\site-packages (from scikit-learn->-r requirements.txt (line 7)) (1.2.0)\n",
      "Requirement already satisfied: threadpoolctl>=2.0.0 in c:\\users\\alvin buana\\anaconda3\\envs\\newproject\\lib\\site-packages (from scikit-learn->-r requirements.txt (line 7)) (3.1.0)\n",
      "Requirement already satisfied: colorama in c:\\users\\alvin buana\\anaconda3\\envs\\newproject\\lib\\site-packages (from click>=4.0->rasterio->-r requirements.txt (line 3)) (0.4.6)\n",
      "Requirement already satisfied: zipp>=3.1.0 in c:\\users\\alvin buana\\anaconda3\\envs\\newproject\\lib\\site-packages (from importlib-resources>=3.2.0->matplotlib->-r requirements.txt (line 2)) (3.15.0)\n",
      "Requirement already satisfied: MarkupSafe>=2.0 in c:\\users\\alvin buana\\appdata\\roaming\\python\\python39\\site-packages (from jinja2>=2.1->jupyterlab->-r requirements.txt (line 5)) (2.1.1)\n",
      "Requirement already satisfied: anyio<4,>=3.1.0 in c:\\users\\alvin buana\\appdata\\roaming\\python\\python39\\site-packages (from jupyter-server<3,>=1.16.0->jupyterlab->-r requirements.txt (line 5)) (3.6.2)\n",
      "Requirement already satisfied: argon2-cffi in c:\\users\\alvin buana\\appdata\\roaming\\python\\python39\\site-packages (from jupyter-server<3,>=1.16.0->jupyterlab->-r requirements.txt (line 5)) (21.3.0)\n",
      "Requirement already satisfied: jupyter-client>=7.4.4 in c:\\users\\alvin buana\\appdata\\roaming\\python\\python39\\site-packages (from jupyter-server<3,>=1.16.0->jupyterlab->-r requirements.txt (line 5)) (7.4.8)\n",
      "Requirement already satisfied: jupyter-events>=0.4.0 in c:\\users\\alvin buana\\appdata\\roaming\\python\\python39\\site-packages (from jupyter-server<3,>=1.16.0->jupyterlab->-r requirements.txt (line 5)) (0.5.0)\n",
      "Requirement already satisfied: jupyter-server-terminals in c:\\users\\alvin buana\\appdata\\roaming\\python\\python39\\site-packages (from jupyter-server<3,>=1.16.0->jupyterlab->-r requirements.txt (line 5)) (0.4.3)\n",
      "Requirement already satisfied: nbconvert>=6.4.4 in c:\\users\\alvin buana\\appdata\\roaming\\python\\python39\\site-packages (from jupyter-server<3,>=1.16.0->jupyterlab->-r requirements.txt (line 5)) (7.2.7)\n",
      "Collecting nbformat>=5.3.0 (from jupyter-server<3,>=1.16.0->jupyterlab->-r requirements.txt (line 5))\n",
      "  Downloading nbformat-5.8.0-py3-none-any.whl (77 kB)\n",
      "     ---------------------------------------- 77.4/77.4 kB 4.5 MB/s eta 0:00:00\n",
      "Requirement already satisfied: prometheus-client in c:\\users\\alvin buana\\appdata\\roaming\\python\\python39\\site-packages (from jupyter-server<3,>=1.16.0->jupyterlab->-r requirements.txt (line 5)) (0.15.0)\n",
      "Requirement already satisfied: pywinpty in c:\\users\\alvin buana\\appdata\\roaming\\python\\python39\\site-packages (from jupyter-server<3,>=1.16.0->jupyterlab->-r requirements.txt (line 5)) (2.0.10)\n",
      "Requirement already satisfied: pyzmq>=24 in c:\\users\\alvin buana\\appdata\\roaming\\python\\python39\\site-packages (from jupyter-server<3,>=1.16.0->jupyterlab->-r requirements.txt (line 5)) (24.0.1)\n",
      "Collecting send2trash (from jupyter-server<3,>=1.16.0->jupyterlab->-r requirements.txt (line 5))\n",
      "  Downloading Send2Trash-1.8.2-py3-none-any.whl (18 kB)\n",
      "Requirement already satisfied: terminado>=0.8.3 in c:\\users\\alvin buana\\appdata\\roaming\\python\\python39\\site-packages (from jupyter-server<3,>=1.16.0->jupyterlab->-r requirements.txt (line 5)) (0.17.1)\n",
      "Requirement already satisfied: traitlets>=5.6.0 in c:\\users\\alvin buana\\anaconda3\\envs\\newproject\\lib\\site-packages (from jupyter-server<3,>=1.16.0->jupyterlab->-r requirements.txt (line 5)) (5.9.0)\n",
      "Collecting websocket-client (from jupyter-server<3,>=1.16.0->jupyterlab->-r requirements.txt (line 5))\n",
      "  Downloading websocket_client-1.5.1-py3-none-any.whl (55 kB)\n",
      "     ---------------------------------------- 55.9/55.9 kB 3.0 MB/s eta 0:00:00\n",
      "Requirement already satisfied: platformdirs>=2.5 in c:\\users\\alvin buana\\appdata\\roaming\\python\\python39\\site-packages (from jupyter-core->jupyterlab->-r requirements.txt (line 5)) (2.6.2)\n",
      "Requirement already satisfied: pywin32>=1.0 in c:\\users\\alvin buana\\anaconda3\\envs\\newproject\\lib\\site-packages (from jupyter-core->jupyterlab->-r requirements.txt (line 5)) (227)\n",
      "Collecting jupyter-server-fileid<1,>=0.6.0 (from jupyter-server-ydoc~=0.8.0->jupyterlab->-r requirements.txt (line 5))\n",
      "  Downloading jupyter_server_fileid-0.9.0-py3-none-any.whl (15 kB)\n",
      "Collecting ypy-websocket<0.9.0,>=0.8.2 (from jupyter-server-ydoc~=0.8.0->jupyterlab->-r requirements.txt (line 5))\n",
      "  Downloading ypy_websocket-0.8.4-py3-none-any.whl (10 kB)\n",
      "Requirement already satisfied: importlib-metadata>=3.6 in c:\\users\\alvin buana\\anaconda3\\envs\\newproject\\lib\\site-packages (from jupyter-ydoc~=0.2.3->jupyterlab->-r requirements.txt (line 5)) (6.0.0)\n",
      "Collecting y-py<0.6.0,>=0.5.3 (from jupyter-ydoc~=0.2.3->jupyterlab->-r requirements.txt (line 5))\n",
      "  Downloading y_py-0.5.9-cp39-none-win_amd64.whl (554 kB)\n",
      "     -------------------------------------- 554.9/554.9 kB 2.9 MB/s eta 0:00:00\n",
      "Collecting babel>=2.10 (from jupyterlab-server~=2.19->jupyterlab->-r requirements.txt (line 5))\n",
      "  Downloading Babel-2.12.1-py3-none-any.whl (10.1 MB)\n",
      "     ---------------------------------------- 10.1/10.1 MB 2.9 MB/s eta 0:00:00\n",
      "Collecting json5>=0.9.0 (from jupyterlab-server~=2.19->jupyterlab->-r requirements.txt (line 5))\n",
      "  Downloading json5-0.9.14-py2.py3-none-any.whl (19 kB)\n",
      "Collecting jsonschema>=4.17.3 (from jupyterlab-server~=2.19->jupyterlab->-r requirements.txt (line 5))\n",
      "  Downloading jsonschema-4.17.3-py3-none-any.whl (90 kB)\n",
      "     ---------------------------------------- 90.4/90.4 kB 2.5 MB/s eta 0:00:00\n",
      "Requirement already satisfied: requests>=2.28 in c:\\users\\alvin buana\\anaconda3\\envs\\newproject\\lib\\site-packages (from jupyterlab-server~=2.19->jupyterlab->-r requirements.txt (line 5)) (2.28.2)\n",
      "Collecting ipython-genutils (from notebook<7->jupyterlab->-r requirements.txt (line 5))\n",
      "  Using cached ipython_genutils-0.2.0-py2.py3-none-any.whl (26 kB)\n",
      "Requirement already satisfied: nest-asyncio>=1.5 in c:\\users\\alvin buana\\anaconda3\\envs\\newproject\\lib\\site-packages (from notebook<7->jupyterlab->-r requirements.txt (line 5)) (1.5.6)\n",
      "Requirement already satisfied: ipykernel in c:\\users\\alvin buana\\anaconda3\\envs\\newproject\\lib\\site-packages (from notebook<7->jupyterlab->-r requirements.txt (line 5)) (6.15.0)\n",
      "Requirement already satisfied: notebook-shim>=0.1.0 in c:\\users\\alvin buana\\appdata\\roaming\\python\\python39\\site-packages (from nbclassic->jupyterlab->-r requirements.txt (line 5)) (0.2.2)\n",
      "Requirement already satisfied: backcall in c:\\users\\alvin buana\\anaconda3\\envs\\newproject\\lib\\site-packages (from ipython->jupyterlab->-r requirements.txt (line 5)) (0.2.0)\n",
      "Requirement already satisfied: decorator in c:\\users\\alvin buana\\anaconda3\\envs\\newproject\\lib\\site-packages (from ipython->jupyterlab->-r requirements.txt (line 5)) (5.1.1)\n",
      "Requirement already satisfied: jedi>=0.16 in c:\\users\\alvin buana\\anaconda3\\envs\\newproject\\lib\\site-packages (from ipython->jupyterlab->-r requirements.txt (line 5)) (0.18.2)\n",
      "Requirement already satisfied: matplotlib-inline in c:\\users\\alvin buana\\anaconda3\\envs\\newproject\\lib\\site-packages (from ipython->jupyterlab->-r requirements.txt (line 5)) (0.1.6)\n",
      "Requirement already satisfied: pickleshare in c:\\users\\alvin buana\\anaconda3\\envs\\newproject\\lib\\site-packages (from ipython->jupyterlab->-r requirements.txt (line 5)) (0.7.5)\n",
      "Requirement already satisfied: prompt-toolkit!=3.0.37,<3.1.0,>=3.0.30 in c:\\users\\alvin buana\\anaconda3\\envs\\newproject\\lib\\site-packages (from ipython->jupyterlab->-r requirements.txt (line 5)) (3.0.38)\n",
      "Requirement already satisfied: pygments>=2.4.0 in c:\\users\\alvin buana\\anaconda3\\envs\\newproject\\lib\\site-packages (from ipython->jupyterlab->-r requirements.txt (line 5)) (2.14.0)\n",
      "Requirement already satisfied: stack-data in c:\\users\\alvin buana\\anaconda3\\envs\\newproject\\lib\\site-packages (from ipython->jupyterlab->-r requirements.txt (line 5)) (0.6.2)\n",
      "Requirement already satisfied: idna>=2.8 in c:\\users\\alvin buana\\anaconda3\\envs\\newproject\\lib\\site-packages (from anyio<4,>=3.1.0->jupyter-server<3,>=1.16.0->jupyterlab->-r requirements.txt (line 5)) (3.4)\n",
      "Requirement already satisfied: sniffio>=1.1 in c:\\users\\alvin buana\\appdata\\roaming\\python\\python39\\site-packages (from anyio<4,>=3.1.0->jupyter-server<3,>=1.16.0->jupyterlab->-r requirements.txt (line 5)) (1.3.0)\n",
      "Requirement already satisfied: wheel<1.0,>=0.23.0 in c:\\users\\alvin buana\\anaconda3\\envs\\newproject\\lib\\site-packages (from astunparse>=1.6.0->tensorflow-intel==2.12.0->tensorflow->-r requirements.txt (line 4)) (0.37.0)\n",
      "Requirement already satisfied: parso<0.9.0,>=0.8.0 in c:\\users\\alvin buana\\anaconda3\\envs\\newproject\\lib\\site-packages (from jedi>=0.16->ipython->jupyterlab->-r requirements.txt (line 5)) (0.8.3)\n",
      "Collecting pyrsistent!=0.17.0,!=0.17.1,!=0.17.2,>=0.14.0 (from jsonschema>=4.17.3->jupyterlab-server~=2.19->jupyterlab->-r requirements.txt (line 5))\n",
      "  Downloading pyrsistent-0.19.3-cp39-cp39-win_amd64.whl (62 kB)\n",
      "     ---------------------------------------- 62.7/62.7 kB 3.5 MB/s eta 0:00:00\n",
      "Collecting entrypoints (from jupyter-client>=7.4.4->jupyter-server<3,>=1.16.0->jupyterlab->-r requirements.txt (line 5))\n",
      "  Using cached entrypoints-0.4-py3-none-any.whl (5.3 kB)\n",
      "Requirement already satisfied: python-json-logger in c:\\users\\alvin buana\\appdata\\roaming\\python\\python39\\site-packages (from jupyter-events>=0.4.0->jupyter-server<3,>=1.16.0->jupyterlab->-r requirements.txt (line 5)) (2.0.4)\n",
      "Requirement already satisfied: pyyaml in c:\\users\\alvin buana\\appdata\\roaming\\python\\python39\\site-packages (from jupyter-events>=0.4.0->jupyter-server<3,>=1.16.0->jupyterlab->-r requirements.txt (line 5)) (6.0)\n",
      "Requirement already satisfied: beautifulsoup4 in c:\\users\\alvin buana\\appdata\\roaming\\python\\python39\\site-packages (from nbconvert>=6.4.4->jupyter-server<3,>=1.16.0->jupyterlab->-r requirements.txt (line 5)) (4.11.1)\n",
      "Requirement already satisfied: bleach in c:\\users\\alvin buana\\appdata\\roaming\\python\\python39\\site-packages (from nbconvert>=6.4.4->jupyter-server<3,>=1.16.0->jupyterlab->-r requirements.txt (line 5)) (5.0.1)\n",
      "Requirement already satisfied: defusedxml in c:\\users\\alvin buana\\appdata\\roaming\\python\\python39\\site-packages (from nbconvert>=6.4.4->jupyter-server<3,>=1.16.0->jupyterlab->-r requirements.txt (line 5)) (0.7.1)\n",
      "Requirement already satisfied: jupyterlab-pygments in c:\\users\\alvin buana\\appdata\\roaming\\python\\python39\\site-packages (from nbconvert>=6.4.4->jupyter-server<3,>=1.16.0->jupyterlab->-r requirements.txt (line 5)) (0.2.2)\n",
      "Collecting mistune<3,>=2.0.3 (from nbconvert>=6.4.4->jupyter-server<3,>=1.16.0->jupyterlab->-r requirements.txt (line 5))\n",
      "  Downloading mistune-2.0.5-py2.py3-none-any.whl (24 kB)\n",
      "Requirement already satisfied: nbclient>=0.5.0 in c:\\users\\alvin buana\\appdata\\roaming\\python\\python39\\site-packages (from nbconvert>=6.4.4->jupyter-server<3,>=1.16.0->jupyterlab->-r requirements.txt (line 5)) (0.7.2)\n",
      "Requirement already satisfied: pandocfilters>=1.4.1 in c:\\users\\alvin buana\\appdata\\roaming\\python\\python39\\site-packages (from nbconvert>=6.4.4->jupyter-server<3,>=1.16.0->jupyterlab->-r requirements.txt (line 5)) (1.5.0)\n",
      "Requirement already satisfied: tinycss2 in c:\\users\\alvin buana\\appdata\\roaming\\python\\python39\\site-packages (from nbconvert>=6.4.4->jupyter-server<3,>=1.16.0->jupyterlab->-r requirements.txt (line 5)) (1.2.1)\n",
      "Collecting fastjsonschema (from nbformat>=5.3.0->jupyter-server<3,>=1.16.0->jupyterlab->-r requirements.txt (line 5))\n",
      "  Downloading fastjsonschema-2.16.3-py3-none-any.whl (23 kB)\n",
      "Requirement already satisfied: wcwidth in c:\\users\\alvin buana\\anaconda3\\envs\\newproject\\lib\\site-packages (from prompt-toolkit!=3.0.37,<3.1.0,>=3.0.30->ipython->jupyterlab->-r requirements.txt (line 5)) (0.2.6)\n",
      "Requirement already satisfied: charset-normalizer<4,>=2 in c:\\users\\alvin buana\\anaconda3\\envs\\newproject\\lib\\site-packages (from requests>=2.28->jupyterlab-server~=2.19->jupyterlab->-r requirements.txt (line 5)) (3.1.0)\n",
      "Requirement already satisfied: urllib3<1.27,>=1.21.1 in c:\\users\\alvin buana\\anaconda3\\envs\\newproject\\lib\\site-packages (from requests>=2.28->jupyterlab-server~=2.19->jupyterlab->-r requirements.txt (line 5)) (1.26.15)\n",
      "Requirement already satisfied: google-auth<3,>=1.6.3 in c:\\users\\alvin buana\\anaconda3\\envs\\newproject\\lib\\site-packages (from tensorboard<2.13,>=2.12->tensorflow-intel==2.12.0->tensorflow->-r requirements.txt (line 4)) (2.16.3)\n",
      "Requirement already satisfied: google-auth-oauthlib<0.5,>=0.4.1 in c:\\users\\alvin buana\\anaconda3\\envs\\newproject\\lib\\site-packages (from tensorboard<2.13,>=2.12->tensorflow-intel==2.12.0->tensorflow->-r requirements.txt (line 4)) (0.4.6)\n",
      "Requirement already satisfied: markdown>=2.6.8 in c:\\users\\alvin buana\\anaconda3\\envs\\newproject\\lib\\site-packages (from tensorboard<2.13,>=2.12->tensorflow-intel==2.12.0->tensorflow->-r requirements.txt (line 4)) (3.4.3)\n",
      "Requirement already satisfied: tensorboard-data-server<0.8.0,>=0.7.0 in c:\\users\\alvin buana\\anaconda3\\envs\\newproject\\lib\\site-packages (from tensorboard<2.13,>=2.12->tensorflow-intel==2.12.0->tensorflow->-r requirements.txt (line 4)) (0.7.0)\n",
      "Requirement already satisfied: tensorboard-plugin-wit>=1.6.0 in c:\\users\\alvin buana\\anaconda3\\envs\\newproject\\lib\\site-packages (from tensorboard<2.13,>=2.12->tensorflow-intel==2.12.0->tensorflow->-r requirements.txt (line 4)) (1.8.1)\n",
      "Requirement already satisfied: werkzeug>=1.0.1 in c:\\users\\alvin buana\\anaconda3\\envs\\newproject\\lib\\site-packages (from tensorboard<2.13,>=2.12->tensorflow-intel==2.12.0->tensorflow->-r requirements.txt (line 4)) (2.2.3)\n",
      "Collecting aiofiles<23,>=22.1.0 (from ypy-websocket<0.9.0,>=0.8.2->jupyter-server-ydoc~=0.8.0->jupyterlab->-r requirements.txt (line 5))\n",
      "  Downloading aiofiles-22.1.0-py3-none-any.whl (14 kB)\n",
      "Collecting aiosqlite<1,>=0.17.0 (from ypy-websocket<0.9.0,>=0.8.2->jupyter-server-ydoc~=0.8.0->jupyterlab->-r requirements.txt (line 5))\n",
      "  Downloading aiosqlite-0.19.0-py3-none-any.whl (15 kB)\n",
      "INFO: pip is looking at multiple versions of ypy-websocket to determine which version is compatible with other requirements. This could take a while.\n",
      "Collecting ypy-websocket<0.9.0,>=0.8.2 (from jupyter-server-ydoc~=0.8.0->jupyterlab->-r requirements.txt (line 5))\n",
      "  Downloading ypy_websocket-0.8.3-py3-none-any.whl (10 kB)\n",
      "  Downloading ypy_websocket-0.8.2-py3-none-any.whl (10 kB)\n",
      "Requirement already satisfied: argon2-cffi-bindings in c:\\users\\alvin buana\\appdata\\roaming\\python\\python39\\site-packages (from argon2-cffi->jupyter-server<3,>=1.16.0->jupyterlab->-r requirements.txt (line 5)) (21.2.0)\n",
      "Requirement already satisfied: debugpy>=1.0 in c:\\users\\alvin buana\\anaconda3\\envs\\newproject\\lib\\site-packages (from ipykernel->notebook<7->jupyterlab->-r requirements.txt (line 5)) (1.5.1)\n",
      "Requirement already satisfied: psutil in c:\\users\\alvin buana\\anaconda3\\envs\\newproject\\lib\\site-packages (from ipykernel->notebook<7->jupyterlab->-r requirements.txt (line 5)) (5.9.0)\n",
      "Requirement already satisfied: executing>=1.2.0 in c:\\users\\alvin buana\\anaconda3\\envs\\newproject\\lib\\site-packages (from stack-data->ipython->jupyterlab->-r requirements.txt (line 5)) (1.2.0)\n",
      "Requirement already satisfied: asttokens>=2.1.0 in c:\\users\\alvin buana\\anaconda3\\envs\\newproject\\lib\\site-packages (from stack-data->ipython->jupyterlab->-r requirements.txt (line 5)) (2.2.1)\n",
      "Requirement already satisfied: pure-eval in c:\\users\\alvin buana\\anaconda3\\envs\\newproject\\lib\\site-packages (from stack-data->ipython->jupyterlab->-r requirements.txt (line 5)) (0.2.2)\n",
      "Requirement already satisfied: cachetools<6.0,>=2.0.0 in c:\\users\\alvin buana\\anaconda3\\envs\\newproject\\lib\\site-packages (from google-auth<3,>=1.6.3->tensorboard<2.13,>=2.12->tensorflow-intel==2.12.0->tensorflow->-r requirements.txt (line 4)) (5.3.0)\n",
      "Requirement already satisfied: pyasn1-modules>=0.2.1 in c:\\users\\alvin buana\\anaconda3\\envs\\newproject\\lib\\site-packages (from google-auth<3,>=1.6.3->tensorboard<2.13,>=2.12->tensorflow-intel==2.12.0->tensorflow->-r requirements.txt (line 4)) (0.2.8)\n",
      "Requirement already satisfied: rsa<5,>=3.1.4 in c:\\users\\alvin buana\\anaconda3\\envs\\newproject\\lib\\site-packages (from google-auth<3,>=1.6.3->tensorboard<2.13,>=2.12->tensorflow-intel==2.12.0->tensorflow->-r requirements.txt (line 4)) (4.9)\n",
      "Requirement already satisfied: requests-oauthlib>=0.7.0 in c:\\users\\alvin buana\\anaconda3\\envs\\newproject\\lib\\site-packages (from google-auth-oauthlib<0.5,>=0.4.1->tensorboard<2.13,>=2.12->tensorflow-intel==2.12.0->tensorflow->-r requirements.txt (line 4)) (1.3.1)\n",
      "Requirement already satisfied: fqdn in c:\\users\\alvin buana\\appdata\\roaming\\python\\python39\\site-packages (from jsonschema>=4.17.3->jupyterlab-server~=2.19->jupyterlab->-r requirements.txt (line 5)) (1.5.1)\n",
      "Requirement already satisfied: isoduration in c:\\users\\alvin buana\\appdata\\roaming\\python\\python39\\site-packages (from jsonschema>=4.17.3->jupyterlab-server~=2.19->jupyterlab->-r requirements.txt (line 5)) (20.11.0)\n",
      "Requirement already satisfied: jsonpointer>1.13 in c:\\users\\alvin buana\\appdata\\roaming\\python\\python39\\site-packages (from jsonschema>=4.17.3->jupyterlab-server~=2.19->jupyterlab->-r requirements.txt (line 5)) (2.3)\n",
      "Requirement already satisfied: rfc3339-validator in c:\\users\\alvin buana\\appdata\\roaming\\python\\python39\\site-packages (from jsonschema>=4.17.3->jupyterlab-server~=2.19->jupyterlab->-r requirements.txt (line 5)) (0.1.4)\n",
      "Requirement already satisfied: rfc3986-validator>0.1.0 in c:\\users\\alvin buana\\appdata\\roaming\\python\\python39\\site-packages (from jsonschema>=4.17.3->jupyterlab-server~=2.19->jupyterlab->-r requirements.txt (line 5)) (0.1.1)\n",
      "Collecting uri-template (from jsonschema>=4.17.3->jupyterlab-server~=2.19->jupyterlab->-r requirements.txt (line 5))\n",
      "  Using cached uri_template-1.2.0-py3-none-any.whl (10 kB)\n",
      "Collecting webcolors>=1.11 (from jsonschema>=4.17.3->jupyterlab-server~=2.19->jupyterlab->-r requirements.txt (line 5))\n",
      "  Downloading webcolors-1.13-py3-none-any.whl (14 kB)\n",
      "Requirement already satisfied: cffi>=1.0.1 in c:\\users\\alvin buana\\anaconda3\\envs\\newproject\\lib\\site-packages (from argon2-cffi-bindings->argon2-cffi->jupyter-server<3,>=1.16.0->jupyterlab->-r requirements.txt (line 5)) (1.15.1)\n",
      "Requirement already satisfied: soupsieve>1.2 in c:\\users\\alvin buana\\appdata\\roaming\\python\\python39\\site-packages (from beautifulsoup4->nbconvert>=6.4.4->jupyter-server<3,>=1.16.0->jupyterlab->-r requirements.txt (line 5)) (2.3.2.post1)\n",
      "Collecting webencodings (from bleach->nbconvert>=6.4.4->jupyter-server<3,>=1.16.0->jupyterlab->-r requirements.txt (line 5))\n",
      "  Using cached webencodings-0.5.1-py2.py3-none-any.whl (11 kB)\n",
      "Requirement already satisfied: pycparser in c:\\users\\alvin buana\\anaconda3\\envs\\newproject\\lib\\site-packages (from cffi>=1.0.1->argon2-cffi-bindings->argon2-cffi->jupyter-server<3,>=1.16.0->jupyterlab->-r requirements.txt (line 5)) (2.21)\n",
      "Requirement already satisfied: pyasn1<0.5.0,>=0.4.6 in c:\\users\\alvin buana\\anaconda3\\envs\\newproject\\lib\\site-packages (from pyasn1-modules>=0.2.1->google-auth<3,>=1.6.3->tensorboard<2.13,>=2.12->tensorflow-intel==2.12.0->tensorflow->-r requirements.txt (line 4)) (0.4.8)\n",
      "Requirement already satisfied: oauthlib>=3.0.0 in c:\\users\\alvin buana\\anaconda3\\envs\\newproject\\lib\\site-packages (from requests-oauthlib>=0.7.0->google-auth-oauthlib<0.5,>=0.4.1->tensorboard<2.13,>=2.12->tensorflow-intel==2.12.0->tensorflow->-r requirements.txt (line 4)) (3.2.2)\n",
      "Requirement already satisfied: arrow>=0.15.0 in c:\\users\\alvin buana\\appdata\\roaming\\python\\python39\\site-packages (from isoduration->jsonschema>=4.17.3->jupyterlab-server~=2.19->jupyterlab->-r requirements.txt (line 5)) (1.2.3)\n",
      "Installing collected packages: y-py, webencodings, mistune, json5, ipython-genutils, fastjsonschema, websocket-client, webcolors, uri-template, send2trash, pyrsistent, pydot, entrypoints, babel, aiosqlite, aiofiles, ypy-websocket, jupyter-ydoc, jsonschema, nbformat, jupyterlab-server, jupyter-server-fileid, jupyter-server-ydoc, jupyterlab\n",
      "Successfully installed aiofiles-22.1.0 aiosqlite-0.19.0 babel-2.12.1 entrypoints-0.4 fastjsonschema-2.16.3 ipython-genutils-0.2.0 json5-0.9.14 jsonschema-4.17.3 jupyter-server-fileid-0.9.0 jupyter-server-ydoc-0.8.0 jupyter-ydoc-0.2.4 jupyterlab-3.6.3 jupyterlab-server-2.22.1 mistune-2.0.5 nbformat-5.8.0 pydot-1.4.2 pyrsistent-0.19.3 send2trash-1.8.2 uri-template-1.2.0 webcolors-1.13 webencodings-0.5.1 websocket-client-1.5.1 y-py-0.5.9 ypy-websocket-0.8.2\n"
     ]
    },
    {
     "name": "stderr",
     "output_type": "stream",
     "text": [
      "WARNING: Ignoring invalid distribution -atplotlib (c:\\users\\alvin buana\\anaconda3\\envs\\newproject\\lib\\site-packages)\n",
      "WARNING: Ignoring invalid distribution -atplotlib (c:\\users\\alvin buana\\anaconda3\\envs\\newproject\\lib\\site-packages)\n"
     ]
    }
   ],
   "source": [
    "pip install -r requirements.txt"
   ]
  },
  {
   "cell_type": "code",
   "execution_count": 1,
   "id": "f3ff830c-9766-473d-984a-a67f30b89caa",
   "metadata": {},
   "outputs": [],
   "source": [
    "TRAIN = True"
   ]
  },
  {
   "attachments": {},
   "cell_type": "markdown",
   "id": "6be422c0-7fb2-4f66-835f-a3921c0ea022",
   "metadata": {},
   "source": [
    "**Settings**"
   ]
  },
  {
   "cell_type": "code",
   "execution_count": 2,
   "id": "5bf1f7e0-9c7d-4a43-b75a-934df349cded",
   "metadata": {},
   "outputs": [],
   "source": [
    "EPOCHS = 30\n",
    "BATCH_SIZE = 16"
   ]
  },
  {
   "attachments": {},
   "cell_type": "markdown",
   "id": "48d8146f-4bed-44a9-91ab-a166f839b27e",
   "metadata": {},
   "source": [
    "Import libraries"
   ]
  },
  {
   "cell_type": "code",
   "execution_count": 3,
   "id": "gentle-circulation",
   "metadata": {
    "tags": []
   },
   "outputs": [],
   "source": [
    "from tensorflow.keras.models import load_model\n",
    "import matplotlib.pyplot as plt\n",
    "import numpy as np"
   ]
  },
  {
   "attachments": {},
   "cell_type": "markdown",
   "id": "burning-likelihood",
   "metadata": {},
   "source": [
    "# Load dataset\n",
    "\n",
    "The dataset is handeled by the class *DatasetHandler*."
   ]
  },
  {
   "cell_type": "code",
   "execution_count": 4,
   "id": "dying-capacity",
   "metadata": {
    "tags": []
   },
   "outputs": [],
   "source": [
    "from DatasetHandler import DatasetHandler\n",
    "training_handler = DatasetHandler('dataset/training')\n",
    "validation_handler = DatasetHandler('dataset/validation')"
   ]
  },
  {
   "cell_type": "code",
   "execution_count": 5,
   "id": "filled-fluid",
   "metadata": {
    "tags": []
   },
   "outputs": [
    {
     "name": "stdout",
     "output_type": "stream",
     "text": [
      "Dataset classes\n",
      "\t dataset/training\\sentinel2\\city\n",
      "\t dataset/training\\sentinel2\\coastline\n",
      "\t dataset/training\\sentinel2\\lake\n",
      "\t dataset/training\\sentinel2\\river\n",
      "\t dataset/training\\sentinel2\\vegetation\n",
      "Dataset dimension\n",
      "\t 450 training samples belonging to  5 classes\n",
      "\t 50 validation samples belonging to  5 classes\n"
     ]
    }
   ],
   "source": [
    "print('Dataset classes')\n",
    "for c in training_handler.classes: print('\\t', c)\n",
    "\n",
    "print('Dataset dimension')\n",
    "print('\\t', len(training_handler.s2_paths), 'training samples belonging to ', len(training_handler.classes), 'classes')\n",
    "print('\\t', len(validation_handler.s2_paths), 'validation samples belonging to ', len(validation_handler.classes), 'classes')"
   ]
  },
  {
   "cell_type": "code",
   "execution_count": 6,
   "id": "collaborative-cliff",
   "metadata": {},
   "outputs": [],
   "source": [
    "classes = []\n",
    "for c in training_handler.classes:\n",
    "    classes.append(c.split('/')[-1])"
   ]
  },
  {
   "attachments": {},
   "cell_type": "markdown",
   "id": "varied-ground",
   "metadata": {},
   "source": [
    "# Sentinel-2 classifier\n",
    "\n",
    "![](imgs/sen2.png)"
   ]
  },
  {
   "cell_type": "code",
   "execution_count": 7,
   "id": "impaired-retirement",
   "metadata": {},
   "outputs": [
    {
     "name": "stderr",
     "output_type": "stream",
     "text": [
      "WARNING:absl:`lr` is deprecated in Keras optimizer, please use `learning_rate` or use the legacy optimizer, e.g.,tf.keras.optimizers.legacy.RMSprop.\n"
     ]
    }
   ],
   "source": [
    "from CNN_Classifier import CNN_Classifier\n",
    "s2classifier = CNN_Classifier((64,64, 12), 5)"
   ]
  },
  {
   "cell_type": "code",
   "execution_count": 8,
   "id": "6d620b92-7ef2-431d-8297-39a477ebb419",
   "metadata": {},
   "outputs": [
    {
     "name": "stdout",
     "output_type": "stream",
     "text": [
      "Epoch 1/30\n",
      "1800/1800 [==============================] - 3217s 2s/step - loss: 1.3793 - accuracy: 0.1980 - val_loss: 0.5012 - val_accuracy: 0.2003\n",
      "Epoch 2/30\n",
      "1800/1800 [==============================] - 3042s 2s/step - loss: 0.5108 - accuracy: 0.1928 - val_loss: 0.5006 - val_accuracy: 0.2013\n",
      "Epoch 3/30\n",
      "1800/1800 [==============================] - 2943s 2s/step - loss: 0.5034 - accuracy: 0.1911 - val_loss: 0.5004 - val_accuracy: 0.1988\n",
      "Epoch 4/30\n",
      "1800/1800 [==============================] - 3232s 2s/step - loss: 0.5011 - accuracy: 0.1878 - val_loss: 0.5004 - val_accuracy: 0.2006\n",
      "Epoch 5/30\n",
      "1800/1800 [==============================] - 3686s 2s/step - loss: 0.5012 - accuracy: 0.1791 - val_loss: 0.5004 - val_accuracy: 0.1997\n",
      "Epoch 6/30\n",
      "1744/1800 [============================>.] - ETA: 1:44 - loss: 0.5014 - accuracy: 0.1793"
     ]
    }
   ],
   "source": [
    "if TRAIN == True:\n",
    "    batch_size = BATCH_SIZE\n",
    "    training_loader = training_handler.s2_data_loader(batch_size, (64,64,12))\n",
    "    validation_loader = validation_handler.s2_data_loader(batch_size, (64,64,12))\n",
    "    training_steps = 4*len(training_handler.s2_paths)\n",
    "    validation_steps = 4*len(validation_handler.s2_paths)\n",
    "    epochs = EPOCHS\n",
    "    s2classifier.train_model(epochs, batch_size, training_loader, validation_loader, training_steps, validation_steps)\n",
    "    s2classifier.model.save('weights/S2-classifier-new.h5')\n",
    "else:\n",
    "    s2classifier.model = load_model('weights/S2-classifier-new.h5')"
   ]
  },
  {
   "cell_type": "code",
   "execution_count": null,
   "id": "ec278eed",
   "metadata": {},
   "outputs": [],
   "source": []
  },
  {
   "cell_type": "code",
   "execution_count": null,
   "id": "2769fc16",
   "metadata": {},
   "outputs": [],
   "source": []
  },
  {
   "attachments": {},
   "cell_type": "markdown",
   "id": "quantitative-alcohol",
   "metadata": {},
   "source": [
    "# Sentinel-1 Classifier \n",
    "\n",
    "![](imgs/sen1.png)"
   ]
  },
  {
   "cell_type": "code",
   "execution_count": null,
   "id": "bottom-congress",
   "metadata": {},
   "outputs": [
    {
     "name": "stderr",
     "output_type": "stream",
     "text": [
      "WARNING:absl:`lr` is deprecated in Keras optimizer, please use `learning_rate` or use the legacy optimizer, e.g.,tf.keras.optimizers.legacy.RMSprop.\n"
     ]
    }
   ],
   "source": [
    "from CNN_Classifier import CNN_Classifier\n",
    "s1classifier = CNN_Classifier((64,64, 2), 5)"
   ]
  },
  {
   "cell_type": "code",
   "execution_count": null,
   "id": "7d82ba98-ad37-4215-a386-f2cdc92e9083",
   "metadata": {},
   "outputs": [],
   "source": [
    "if TRAIN == True:\n",
    "    training_handler = DatasetHandler('dataset/training')\n",
    "    validation_handler = DatasetHandler('dataset/validation')\n",
    "    batch_size = BATCH_SIZE\n",
    "    training_loader = training_handler.s1_data_loader(batch_size, (64,64,2))\n",
    "    validation_loader = validation_handler.s1_data_loader(batch_size, (64,64,2))\n",
    "    training_steps = 4*len(training_handler.s1_paths)\n",
    "    validation_steps = 4*len(validation_handler.s1_paths)\n",
    "    epochs = EPOCHS\n",
    "    s1classifier.train_model(epochs, batch_size, training_loader, validation_loader, training_steps, validation_steps)\n",
    "    s1classifier.model.save('weights/S1-classifier-new.h5')\n",
    "else:\n",
    "    s1classifier.model = load_model('weights/S1-classifier-new.h5')"
   ]
  },
  {
   "attachments": {},
   "cell_type": "markdown",
   "id": "solid-exemption",
   "metadata": {
    "tags": []
   },
   "source": [
    "# Early Fusion \n",
    "\n",
    "\n",
    "![](imgs/early-fusion.png)"
   ]
  },
  {
   "cell_type": "code",
   "execution_count": null,
   "id": "expressed-italian",
   "metadata": {},
   "outputs": [
    {
     "name": "stderr",
     "output_type": "stream",
     "text": [
      "WARNING:absl:`lr` is deprecated in Keras optimizer, please use `learning_rate` or use the legacy optimizer, e.g.,tf.keras.optimizers.legacy.RMSprop.\n"
     ]
    }
   ],
   "source": [
    "from CNN_Classifier import CNN_Classifier\n",
    "earlyclassifier = CNN_Classifier((64,64, 12+2), 5)"
   ]
  },
  {
   "cell_type": "code",
   "execution_count": null,
   "id": "697975bb-b651-48ab-b4c5-6cd20534267d",
   "metadata": {},
   "outputs": [],
   "source": [
    "if TRAIN == True:\n",
    "    batch_size = BATCH_SIZE\n",
    "    training_loader = training_handler.s2_s1_data_loader_2(batch_size, (64,64,12), (64,64,2))\n",
    "    validation_loader = validation_handler.s2_s1_data_loader_2(batch_size, (64,64,12), (64,64,2))\n",
    "    training_steps = 4*len(training_handler.s2_paths)\n",
    "    validation_steps = 4*len(validation_handler.s2_paths)\n",
    "    epochs = EPOCHS\n",
    "    earlyclassifier.train_model(epochs, batch_size, training_loader, validation_loader, training_steps, validation_steps)\n",
    "    earlyclassifier.model.save('weights/S2-S1-early-classifier-new.h5')\n",
    "else:\n",
    "    earlyclassifier.model = load_model('weights/S2-S1-early-classifier-new.h5')"
   ]
  },
  {
   "attachments": {},
   "cell_type": "markdown",
   "id": "exposed-sampling",
   "metadata": {},
   "source": [
    "# Joint Fusion\n",
    "\n",
    "![](imgs/joint-fusion.png)"
   ]
  },
  {
   "cell_type": "code",
   "execution_count": null,
   "id": "answering-cardiff",
   "metadata": {},
   "outputs": [
    {
     "name": "stderr",
     "output_type": "stream",
     "text": [
      "WARNING:absl:`lr` is deprecated in Keras optimizer, please use `learning_rate` or use the legacy optimizer, e.g.,tf.keras.optimizers.legacy.RMSprop.\n"
     ]
    }
   ],
   "source": [
    "from Fusion_Classifier import Fusion_Classifier\n",
    "fclassifier = Fusion_Classifier((64,64, 12), (64,64,2), 5)"
   ]
  },
  {
   "cell_type": "code",
   "execution_count": null,
   "id": "da1718fb-7a49-47f4-bfcd-ea2ce046b541",
   "metadata": {},
   "outputs": [],
   "source": [
    "if TRAIN == True:\n",
    "    batch_size = BATCH_SIZE\n",
    "    training_loader = training_handler.s2_s1_data_loader(batch_size, (64,64,12), (64,64,2))\n",
    "    validation_loader = validation_handler.s2_s1_data_loader(batch_size, (64,64,12), (64,64,2))\n",
    "    training_steps = 4*len(training_handler.s1_paths)\n",
    "    validation_steps = 4*len(validation_handler.s1_paths)\n",
    "    epochs = EPOCHS\n",
    "    fclassifier.train_model(epochs, batch_size, training_loader, validation_loader, training_steps, validation_steps)\n",
    "    fclassifier.model.save('weights/S2-S1-classifier-new.h5')\n",
    "else:\n",
    "    fclassifier.model = load_model('weights/S2-S1-classifier-new.h5')"
   ]
  },
  {
   "attachments": {},
   "cell_type": "markdown",
   "id": "bbeb4ec3-6d39-48df-b794-bdad4f3fa7f0",
   "metadata": {},
   "source": [
    "# Late Fusion\n",
    "\n",
    "![](imgs/late-fusion.png)"
   ]
  },
  {
   "cell_type": "code",
   "execution_count": 15,
   "id": "31bc509d-2355-4063-9841-cbb9b9fb722c",
   "metadata": {},
   "outputs": [
    {
     "name": "stderr",
     "output_type": "stream",
     "text": [
      "WARNING:absl:`lr` is deprecated in Keras optimizer, please use `learning_rate` or use the legacy optimizer, e.g.,tf.keras.optimizers.legacy.RMSprop.\n",
      "WARNING:absl:`lr` is deprecated in Keras optimizer, please use `learning_rate` or use the legacy optimizer, e.g.,tf.keras.optimizers.legacy.RMSprop.\n"
     ]
    }
   ],
   "source": [
    "s2classifier = CNN_Classifier((64,64, 12), 5)\n",
    "s1classifier = CNN_Classifier((64,64, 2), 5)\n",
    "s2classifier.model = load_model('weights/S2-classifier-new.h5')\n",
    "s1classifier.model = load_model('weights/S1-classifier-new.h5')"
   ]
  },
  {
   "cell_type": "code",
   "execution_count": 70,
   "id": "07bec00a-2648-4027-9432-3e80523e0c51",
   "metadata": {},
   "outputs": [
    {
     "name": "stdout",
     "output_type": "stream",
     "text": [
      "16/16 [==============================] - 0s 18ms/step\n",
      "16/16 [==============================] - 0s 15ms/step\n"
     ]
    }
   ],
   "source": [
    "validation_loader = validation_handler.s2_s1_data_loader(10*len(validation_handler.s1_paths), (64,64,12), (64,64,2))\n",
    "s2_s1, late_truth = next(iter(validation_loader))\n",
    "s2_pre = s2classifier.model.predict(s2_s1[0])\n",
    "s1_pre = s1classifier.model.predict(s2_s1[1])"
   ]
  },
  {
   "attachments": {},
   "cell_type": "markdown",
   "id": "c705f1bd-c48c-49f6-bb4a-022cd836dc96",
   "metadata": {},
   "source": [
    "## Mean Late Fusion"
   ]
  },
  {
   "cell_type": "code",
   "execution_count": 71,
   "id": "23badf92-922d-46f3-8182-547c5c75660a",
   "metadata": {},
   "outputs": [],
   "source": [
    "late_sum = []\n",
    "for i in range(s2_pre.shape[0]):\n",
    "        late_sum.append(np.argmax((s1_pre[i]+s2_pre[i])))"
   ]
  },
  {
   "cell_type": "code",
   "execution_count": 72,
   "id": "57f252a0",
   "metadata": {},
   "outputs": [
    {
     "data": {
      "text/plain": [
       "500"
      ]
     },
     "execution_count": 72,
     "metadata": {},
     "output_type": "execute_result"
    }
   ],
   "source": [
    "len(late_sum)"
   ]
  },
  {
   "cell_type": "code",
   "execution_count": 73,
   "id": "dc04978b",
   "metadata": {},
   "outputs": [],
   "source": [
    "# g_truth[1]"
   ]
  },
  {
   "attachments": {},
   "cell_type": "markdown",
   "id": "5cc2a110-0e2e-4258-9184-51252a388058",
   "metadata": {},
   "source": [
    "## Weighted Late Fusion"
   ]
  },
  {
   "cell_type": "code",
   "execution_count": 74,
   "id": "501c31d5-619a-43bd-882f-eec296037c42",
   "metadata": {},
   "outputs": [],
   "source": [
    "late_weight = []\n",
    "w1 = np.array([0, 1, 1, 1, 0])\n",
    "w2 = 1 - w1\n",
    "\n",
    "for i in range(s2_pre.shape[0]):\n",
    "        late_weight.append(np.argmax((w1*s1_pre[i]+w2*s2_pre[i])))"
   ]
  },
  {
   "attachments": {},
   "cell_type": "markdown",
   "id": "dedicated-closing",
   "metadata": {},
   "source": [
    "# Results"
   ]
  },
  {
   "attachments": {},
   "cell_type": "markdown",
   "id": "eeb365af-fb9f-4855-bb46-6a74b7c2db67",
   "metadata": {},
   "source": [
    "![](imgs/metrics.png)"
   ]
  },
  {
   "attachments": {},
   "cell_type": "markdown",
   "id": "47ae24c9",
   "metadata": {},
   "source": [
    "# Evaluation"
   ]
  },
  {
   "cell_type": "code",
   "execution_count": 93,
   "id": "9e22f93f",
   "metadata": {},
   "outputs": [],
   "source": [
    "import pandas as pd\n",
    "from sklearn.metrics import confusion_matrix\n",
    "import seaborn as sns\n",
    "batch_size = BATCH_SIZE\n",
    "def evaluate_matrix(truth,pred):\n",
    "    true_labels = ['city','coastline','lake','river','vegetation']\n",
    "    if np.array(pred).ndim<2:\n",
    "        conmat = confusion_matrix(truth.argmax(axis=1),np.array(pred))\n",
    "    else:\n",
    "        conmat = confusion_matrix(truth.argmax(axis=1),pred.argmax(axis=1))\n",
    "    sns.heatmap(conmat,annot=True)\n",
    "    plt.show()\n",
    "    num_classes = conmat.shape[0]\n",
    "    res = {'city':[],'coastline':[],'lake':[],'river':[],'vegetation':[]}\n",
    "    for i in range(num_classes):\n",
    "        target_class = true_labels[i]\n",
    "        TP = conmat[i,i]\n",
    "        FP = np.sum(conmat[:,i]) - TP\n",
    "        FN = np.sum(conmat[i,:]) - TP\n",
    "        TN = np.sum(conmat) - TP - FP - FN\n",
    "        \n",
    "        accuracy = (TP + TN) / (TP + TN + FP + FN)\n",
    "        res[target_class].append(accuracy)\n",
    "        precision = TP / (TP + FP)\n",
    "        res[target_class].append(precision)\n",
    "        recall = TP / (TP + FN)\n",
    "        res[target_class].append(recall)\n",
    "        f1_score = 2 * precision * recall / (precision + recall)\n",
    "        res[target_class].append(f1_score)\n",
    "\n",
    "        #Omission Error\n",
    "        err = np.delete(cons2[:,i],[i])\n",
    "        err = np.sum(err)\n",
    "        err = err/np.sum(cons2[:,i])*100\n",
    "        res[target_class].append(err)\n",
    "\n",
    "    df = pd.DataFrame(res,index=['accuracy','precision','recall','f1_score','Omission Error'])\n",
    "    df['Avg'] = df.mean(axis=1)\n",
    "    \n",
    "    return df\n",
    "        \n",
    "    "
   ]
  },
  {
   "cell_type": "code",
   "execution_count": 94,
   "id": "f7eadd9e-09b7-460d-8bdb-830628275cdd",
   "metadata": {},
   "outputs": [
    {
     "name": "stdout",
     "output_type": "stream",
     "text": [
      "1/1 [==============================] - 0s 79ms/step\n"
     ]
    },
    {
     "data": {
      "image/png": "[encoded data removed]",
      "text/plain": [
       "<Figure size 640x480 with 2 Axes>"
      ]
     },
     "metadata": {},
     "output_type": "display_data"
    },
    {
     "name": "stderr",
     "output_type": "stream",
     "text": [
      "C:\\Users\\Alvin Buana\\AppData\\Local\\Temp\\ipykernel_17984\\2489219900.py:24: RuntimeWarning: invalid value encountered in longlong_scalars\n",
      "  precision = TP / (TP + FP)\n"
     ]
    },
    {
     "data": {
      "text/html": [
       "<div>\n",
       "<style scoped>\n",
       "    .dataframe tbody tr th:only-of-type {\n",
       "        vertical-align: middle;\n",
       "    }\n",
       "\n",
       "    .dataframe tbody tr th {\n",
       "        vertical-align: top;\n",
       "    }\n",
       "\n",
       "    .dataframe thead th {\n",
       "        text-align: right;\n",
       "    }\n",
       "</style>\n",
       "<table border=\"1\" class=\"dataframe\">\n",
       "  <thead>\n",
       "    <tr style=\"text-align: right;\">\n",
       "      <th></th>\n",
       "      <th>city</th>\n",
       "      <th>coastline</th>\n",
       "      <th>lake</th>\n",
       "      <th>river</th>\n",
       "      <th>vegetation</th>\n",
       "      <th>Avg</th>\n",
       "    </tr>\n",
       "  </thead>\n",
       "  <tbody>\n",
       "    <tr>\n",
       "      <th>accuracy</th>\n",
       "      <td>0.937500</td>\n",
       "      <td>0.937500</td>\n",
       "      <td>0.812500</td>\n",
       "      <td>0.875</td>\n",
       "      <td>0.937500</td>\n",
       "      <td>0.900000</td>\n",
       "    </tr>\n",
       "    <tr>\n",
       "      <th>precision</th>\n",
       "      <td>1.000000</td>\n",
       "      <td>0.750000</td>\n",
       "      <td>0.500000</td>\n",
       "      <td>NaN</td>\n",
       "      <td>0.666667</td>\n",
       "      <td>0.729167</td>\n",
       "    </tr>\n",
       "    <tr>\n",
       "      <th>recall</th>\n",
       "      <td>0.833333</td>\n",
       "      <td>1.000000</td>\n",
       "      <td>0.666667</td>\n",
       "      <td>0.000</td>\n",
       "      <td>1.000000</td>\n",
       "      <td>0.700000</td>\n",
       "    </tr>\n",
       "    <tr>\n",
       "      <th>f1_score</th>\n",
       "      <td>0.909091</td>\n",
       "      <td>0.857143</td>\n",
       "      <td>0.571429</td>\n",
       "      <td>NaN</td>\n",
       "      <td>0.800000</td>\n",
       "      <td>0.784416</td>\n",
       "    </tr>\n",
       "    <tr>\n",
       "      <th>Omission Error</th>\n",
       "      <td>0.000000</td>\n",
       "      <td>20.000000</td>\n",
       "      <td>50.000000</td>\n",
       "      <td>25.000</td>\n",
       "      <td>25.000000</td>\n",
       "      <td>24.000000</td>\n",
       "    </tr>\n",
       "  </tbody>\n",
       "</table>\n",
       "</div>"
      ],
      "text/plain": [
       "                    city  coastline       lake   river  vegetation        Avg\n",
       "accuracy        0.937500   0.937500   0.812500   0.875    0.937500   0.900000\n",
       "precision       1.000000   0.750000   0.500000     NaN    0.666667   0.729167\n",
       "recall          0.833333   1.000000   0.666667   0.000    1.000000   0.700000\n",
       "f1_score        0.909091   0.857143   0.571429     NaN    0.800000   0.784416\n",
       "Omission Error  0.000000  20.000000  50.000000  25.000   25.000000  24.000000"
      ]
     },
     "execution_count": 94,
     "metadata": {},
     "output_type": "execute_result"
    }
   ],
   "source": [
    "validation_loader = validation_handler.s2_data_loader(batch_size, (64,64,12))\n",
    "s2_val, g2_truth = next(iter(validation_loader))\n",
    "s2_pred = s2classifier.model.predict(s2_val)\n",
    "dfs2 = evaluate_matrix(g2_truth,s2_pred)\n",
    "dfs2"
   ]
  },
  {
   "cell_type": "code",
   "execution_count": 95,
   "id": "6998e7fd",
   "metadata": {},
   "outputs": [
    {
     "name": "stdout",
     "output_type": "stream",
     "text": [
      "1/1 [==============================] - 0s 54ms/step\n"
     ]
    },
    {
     "data": {
      "image/png": "[encoded data removed]",
      "text/plain": [
       "<Figure size 640x480 with 2 Axes>"
      ]
     },
     "metadata": {},
     "output_type": "display_data"
    },
    {
     "data": {
      "text/html": [
       "<div>\n",
       "<style scoped>\n",
       "    .dataframe tbody tr th:only-of-type {\n",
       "        vertical-align: middle;\n",
       "    }\n",
       "\n",
       "    .dataframe tbody tr th {\n",
       "        vertical-align: top;\n",
       "    }\n",
       "\n",
       "    .dataframe thead th {\n",
       "        text-align: right;\n",
       "    }\n",
       "</style>\n",
       "<table border=\"1\" class=\"dataframe\">\n",
       "  <thead>\n",
       "    <tr style=\"text-align: right;\">\n",
       "      <th></th>\n",
       "      <th>city</th>\n",
       "      <th>coastline</th>\n",
       "      <th>lake</th>\n",
       "      <th>river</th>\n",
       "      <th>vegetation</th>\n",
       "      <th>Avg</th>\n",
       "    </tr>\n",
       "  </thead>\n",
       "  <tbody>\n",
       "    <tr>\n",
       "      <th>accuracy</th>\n",
       "      <td>0.937500</td>\n",
       "      <td>0.937500</td>\n",
       "      <td>0.937500</td>\n",
       "      <td>0.937500</td>\n",
       "      <td>0.875000</td>\n",
       "      <td>0.925000</td>\n",
       "    </tr>\n",
       "    <tr>\n",
       "      <th>precision</th>\n",
       "      <td>0.800000</td>\n",
       "      <td>1.000000</td>\n",
       "      <td>0.750000</td>\n",
       "      <td>0.750000</td>\n",
       "      <td>1.000000</td>\n",
       "      <td>0.860000</td>\n",
       "    </tr>\n",
       "    <tr>\n",
       "      <th>recall</th>\n",
       "      <td>1.000000</td>\n",
       "      <td>0.666667</td>\n",
       "      <td>1.000000</td>\n",
       "      <td>1.000000</td>\n",
       "      <td>0.333333</td>\n",
       "      <td>0.800000</td>\n",
       "    </tr>\n",
       "    <tr>\n",
       "      <th>f1_score</th>\n",
       "      <td>0.888889</td>\n",
       "      <td>0.800000</td>\n",
       "      <td>0.857143</td>\n",
       "      <td>0.857143</td>\n",
       "      <td>0.500000</td>\n",
       "      <td>0.780635</td>\n",
       "    </tr>\n",
       "    <tr>\n",
       "      <th>Omission Error</th>\n",
       "      <td>0.000000</td>\n",
       "      <td>20.000000</td>\n",
       "      <td>50.000000</td>\n",
       "      <td>25.000000</td>\n",
       "      <td>25.000000</td>\n",
       "      <td>24.000000</td>\n",
       "    </tr>\n",
       "  </tbody>\n",
       "</table>\n",
       "</div>"
      ],
      "text/plain": [
       "                    city  coastline       lake      river  vegetation  \\\n",
       "accuracy        0.937500   0.937500   0.937500   0.937500    0.875000   \n",
       "precision       0.800000   1.000000   0.750000   0.750000    1.000000   \n",
       "recall          1.000000   0.666667   1.000000   1.000000    0.333333   \n",
       "f1_score        0.888889   0.800000   0.857143   0.857143    0.500000   \n",
       "Omission Error  0.000000  20.000000  50.000000  25.000000   25.000000   \n",
       "\n",
       "                      Avg  \n",
       "accuracy         0.925000  \n",
       "precision        0.860000  \n",
       "recall           0.800000  \n",
       "f1_score         0.780635  \n",
       "Omission Error  24.000000  "
      ]
     },
     "execution_count": 95,
     "metadata": {},
     "output_type": "execute_result"
    }
   ],
   "source": [
    "validation_loader = validation_handler.s1_data_loader(batch_size, (64,64,2))\n",
    "s1_val, g1_truth = next(iter(validation_loader))\n",
    "s1_pred = s1classifier.model.predict(s1_val)\n",
    "dfs1 = evaluate_matrix(g1_truth,s1_pred)\n",
    "dfs1"
   ]
  },
  {
   "cell_type": "code",
   "execution_count": 96,
   "id": "7ff97bc3",
   "metadata": {},
   "outputs": [
    {
     "name": "stdout",
     "output_type": "stream",
     "text": [
      "1/1 [==============================] - 0s 73ms/step\n"
     ]
    },
    {
     "data": {
      "image/png": "[encoded data removed]",
      "text/plain": [
       "<Figure size 640x480 with 2 Axes>"
      ]
     },
     "metadata": {},
     "output_type": "display_data"
    },
    {
     "data": {
      "text/html": [
       "<div>\n",
       "<style scoped>\n",
       "    .dataframe tbody tr th:only-of-type {\n",
       "        vertical-align: middle;\n",
       "    }\n",
       "\n",
       "    .dataframe tbody tr th {\n",
       "        vertical-align: top;\n",
       "    }\n",
       "\n",
       "    .dataframe thead th {\n",
       "        text-align: right;\n",
       "    }\n",
       "</style>\n",
       "<table border=\"1\" class=\"dataframe\">\n",
       "  <thead>\n",
       "    <tr style=\"text-align: right;\">\n",
       "      <th></th>\n",
       "      <th>city</th>\n",
       "      <th>coastline</th>\n",
       "      <th>lake</th>\n",
       "      <th>river</th>\n",
       "      <th>vegetation</th>\n",
       "      <th>Avg</th>\n",
       "    </tr>\n",
       "  </thead>\n",
       "  <tbody>\n",
       "    <tr>\n",
       "      <th>accuracy</th>\n",
       "      <td>0.937500</td>\n",
       "      <td>0.875000</td>\n",
       "      <td>0.812500</td>\n",
       "      <td>0.937500</td>\n",
       "      <td>0.937500</td>\n",
       "      <td>0.900000</td>\n",
       "    </tr>\n",
       "    <tr>\n",
       "      <th>precision</th>\n",
       "      <td>1.000000</td>\n",
       "      <td>1.000000</td>\n",
       "      <td>0.571429</td>\n",
       "      <td>1.000000</td>\n",
       "      <td>0.500000</td>\n",
       "      <td>0.814286</td>\n",
       "    </tr>\n",
       "    <tr>\n",
       "      <th>recall</th>\n",
       "      <td>0.666667</td>\n",
       "      <td>0.500000</td>\n",
       "      <td>1.000000</td>\n",
       "      <td>0.750000</td>\n",
       "      <td>1.000000</td>\n",
       "      <td>0.783333</td>\n",
       "    </tr>\n",
       "    <tr>\n",
       "      <th>f1_score</th>\n",
       "      <td>0.800000</td>\n",
       "      <td>0.666667</td>\n",
       "      <td>0.727273</td>\n",
       "      <td>0.857143</td>\n",
       "      <td>0.666667</td>\n",
       "      <td>0.743550</td>\n",
       "    </tr>\n",
       "    <tr>\n",
       "      <th>Omission Error</th>\n",
       "      <td>0.000000</td>\n",
       "      <td>20.000000</td>\n",
       "      <td>50.000000</td>\n",
       "      <td>25.000000</td>\n",
       "      <td>25.000000</td>\n",
       "      <td>24.000000</td>\n",
       "    </tr>\n",
       "  </tbody>\n",
       "</table>\n",
       "</div>"
      ],
      "text/plain": [
       "                    city  coastline       lake      river  vegetation  \\\n",
       "accuracy        0.937500   0.875000   0.812500   0.937500    0.937500   \n",
       "precision       1.000000   1.000000   0.571429   1.000000    0.500000   \n",
       "recall          0.666667   0.500000   1.000000   0.750000    1.000000   \n",
       "f1_score        0.800000   0.666667   0.727273   0.857143    0.666667   \n",
       "Omission Error  0.000000  20.000000  50.000000  25.000000   25.000000   \n",
       "\n",
       "                      Avg  \n",
       "accuracy         0.900000  \n",
       "precision        0.814286  \n",
       "recall           0.783333  \n",
       "f1_score         0.743550  \n",
       "Omission Error  24.000000  "
      ]
     },
     "execution_count": 96,
     "metadata": {},
     "output_type": "execute_result"
    }
   ],
   "source": [
    "validation_loader = validation_handler.s2_s1_data_loader_2(batch_size, (64,64,12), (64,64,2))\n",
    "early_val, early_truth = next(iter(validation_loader))\n",
    "early_pred = earlyclassifier.model.predict(early_val)\n",
    "dfse = evaluate_matrix(early_truth,early_pred)\n",
    "dfse"
   ]
  },
  {
   "cell_type": "code",
   "execution_count": 97,
   "id": "3d81e16a",
   "metadata": {},
   "outputs": [
    {
     "name": "stdout",
     "output_type": "stream",
     "text": [
      "1/1 [==============================] - 0s 43ms/step\n"
     ]
    },
    {
     "data": {
      "image/png": "[encoded data removed]",
      "text/plain": [
       "<Figure size 640x480 with 2 Axes>"
      ]
     },
     "metadata": {},
     "output_type": "display_data"
    },
    {
     "data": {
      "text/html": [
       "<div>\n",
       "<style scoped>\n",
       "    .dataframe tbody tr th:only-of-type {\n",
       "        vertical-align: middle;\n",
       "    }\n",
       "\n",
       "    .dataframe tbody tr th {\n",
       "        vertical-align: top;\n",
       "    }\n",
       "\n",
       "    .dataframe thead th {\n",
       "        text-align: right;\n",
       "    }\n",
       "</style>\n",
       "<table border=\"1\" class=\"dataframe\">\n",
       "  <thead>\n",
       "    <tr style=\"text-align: right;\">\n",
       "      <th></th>\n",
       "      <th>city</th>\n",
       "      <th>coastline</th>\n",
       "      <th>lake</th>\n",
       "      <th>river</th>\n",
       "      <th>vegetation</th>\n",
       "      <th>Avg</th>\n",
       "    </tr>\n",
       "  </thead>\n",
       "  <tbody>\n",
       "    <tr>\n",
       "      <th>accuracy</th>\n",
       "      <td>1.0</td>\n",
       "      <td>1.0</td>\n",
       "      <td>0.937500</td>\n",
       "      <td>1.0</td>\n",
       "      <td>0.937500</td>\n",
       "      <td>0.975000</td>\n",
       "    </tr>\n",
       "    <tr>\n",
       "      <th>precision</th>\n",
       "      <td>1.0</td>\n",
       "      <td>1.0</td>\n",
       "      <td>1.000000</td>\n",
       "      <td>1.0</td>\n",
       "      <td>0.800000</td>\n",
       "      <td>0.960000</td>\n",
       "    </tr>\n",
       "    <tr>\n",
       "      <th>recall</th>\n",
       "      <td>1.0</td>\n",
       "      <td>1.0</td>\n",
       "      <td>0.800000</td>\n",
       "      <td>1.0</td>\n",
       "      <td>1.000000</td>\n",
       "      <td>0.960000</td>\n",
       "    </tr>\n",
       "    <tr>\n",
       "      <th>f1_score</th>\n",
       "      <td>1.0</td>\n",
       "      <td>1.0</td>\n",
       "      <td>0.888889</td>\n",
       "      <td>1.0</td>\n",
       "      <td>0.888889</td>\n",
       "      <td>0.955556</td>\n",
       "    </tr>\n",
       "    <tr>\n",
       "      <th>Omission Error</th>\n",
       "      <td>0.0</td>\n",
       "      <td>20.0</td>\n",
       "      <td>50.000000</td>\n",
       "      <td>25.0</td>\n",
       "      <td>25.000000</td>\n",
       "      <td>24.000000</td>\n",
       "    </tr>\n",
       "  </tbody>\n",
       "</table>\n",
       "</div>"
      ],
      "text/plain": [
       "                city  coastline       lake  river  vegetation        Avg\n",
       "accuracy         1.0        1.0   0.937500    1.0    0.937500   0.975000\n",
       "precision        1.0        1.0   1.000000    1.0    0.800000   0.960000\n",
       "recall           1.0        1.0   0.800000    1.0    1.000000   0.960000\n",
       "f1_score         1.0        1.0   0.888889    1.0    0.888889   0.955556\n",
       "Omission Error   0.0       20.0  50.000000   25.0   25.000000  24.000000"
      ]
     },
     "execution_count": 97,
     "metadata": {},
     "output_type": "execute_result"
    }
   ],
   "source": [
    "validation_loader = validation_handler.s2_s1_data_loader(batch_size, (64,64,12), (64,64,2))\n",
    "joint_val, joint_truth = next(iter(validation_loader))\n",
    "joint_pred = fclassifier.model.predict(joint_val)\n",
    "dfsj = evaluate_matrix(joint_truth,joint_pred)\n",
    "dfsj"
   ]
  },
  {
   "cell_type": "code",
   "execution_count": 98,
   "id": "643383dc",
   "metadata": {},
   "outputs": [
    {
     "data": {
      "image/png": "[encoded data removed]",
      "text/plain": [
       "<Figure size 640x480 with 2 Axes>"
      ]
     },
     "metadata": {},
     "output_type": "display_data"
    },
    {
     "data": {
      "text/html": [
       "<div>\n",
       "<style scoped>\n",
       "    .dataframe tbody tr th:only-of-type {\n",
       "        vertical-align: middle;\n",
       "    }\n",
       "\n",
       "    .dataframe tbody tr th {\n",
       "        vertical-align: top;\n",
       "    }\n",
       "\n",
       "    .dataframe thead th {\n",
       "        text-align: right;\n",
       "    }\n",
       "</style>\n",
       "<table border=\"1\" class=\"dataframe\">\n",
       "  <thead>\n",
       "    <tr style=\"text-align: right;\">\n",
       "      <th></th>\n",
       "      <th>city</th>\n",
       "      <th>coastline</th>\n",
       "      <th>lake</th>\n",
       "      <th>river</th>\n",
       "      <th>vegetation</th>\n",
       "      <th>Avg</th>\n",
       "    </tr>\n",
       "  </thead>\n",
       "  <tbody>\n",
       "    <tr>\n",
       "      <th>accuracy</th>\n",
       "      <td>0.992000</td>\n",
       "      <td>0.962000</td>\n",
       "      <td>0.896000</td>\n",
       "      <td>0.908000</td>\n",
       "      <td>0.962000</td>\n",
       "      <td>0.944000</td>\n",
       "    </tr>\n",
       "    <tr>\n",
       "      <th>precision</th>\n",
       "      <td>0.962264</td>\n",
       "      <td>0.866071</td>\n",
       "      <td>0.708738</td>\n",
       "      <td>0.793478</td>\n",
       "      <td>0.977011</td>\n",
       "      <td>0.861513</td>\n",
       "    </tr>\n",
       "    <tr>\n",
       "      <th>recall</th>\n",
       "      <td>1.000000</td>\n",
       "      <td>0.960396</td>\n",
       "      <td>0.768421</td>\n",
       "      <td>0.730000</td>\n",
       "      <td>0.833333</td>\n",
       "      <td>0.858430</td>\n",
       "    </tr>\n",
       "    <tr>\n",
       "      <th>f1_score</th>\n",
       "      <td>0.980769</td>\n",
       "      <td>0.910798</td>\n",
       "      <td>0.737374</td>\n",
       "      <td>0.760417</td>\n",
       "      <td>0.899471</td>\n",
       "      <td>0.857766</td>\n",
       "    </tr>\n",
       "    <tr>\n",
       "      <th>Omission Error</th>\n",
       "      <td>0.000000</td>\n",
       "      <td>20.000000</td>\n",
       "      <td>50.000000</td>\n",
       "      <td>25.000000</td>\n",
       "      <td>25.000000</td>\n",
       "      <td>24.000000</td>\n",
       "    </tr>\n",
       "  </tbody>\n",
       "</table>\n",
       "</div>"
      ],
      "text/plain": [
       "                    city  coastline       lake      river  vegetation  \\\n",
       "accuracy        0.992000   0.962000   0.896000   0.908000    0.962000   \n",
       "precision       0.962264   0.866071   0.708738   0.793478    0.977011   \n",
       "recall          1.000000   0.960396   0.768421   0.730000    0.833333   \n",
       "f1_score        0.980769   0.910798   0.737374   0.760417    0.899471   \n",
       "Omission Error  0.000000  20.000000  50.000000  25.000000   25.000000   \n",
       "\n",
       "                      Avg  \n",
       "accuracy         0.944000  \n",
       "precision        0.861513  \n",
       "recall           0.858430  \n",
       "f1_score         0.857766  \n",
       "Omission Error  24.000000  "
      ]
     },
     "execution_count": 98,
     "metadata": {},
     "output_type": "execute_result"
    }
   ],
   "source": [
    "dfsml = evaluate_matrix(np.array(late_truth),np.array(late_sum))\n",
    "dfsml"
   ]
  },
  {
   "cell_type": "code",
   "execution_count": 99,
   "id": "ddfb51a2",
   "metadata": {},
   "outputs": [
    {
     "data": {
      "image/png": "[encoded data removed]",
      "text/plain": [
       "<Figure size 640x480 with 2 Axes>"
      ]
     },
     "metadata": {},
     "output_type": "display_data"
    },
    {
     "data": {
      "text/html": [
       "<div>\n",
       "<style scoped>\n",
       "    .dataframe tbody tr th:only-of-type {\n",
       "        vertical-align: middle;\n",
       "    }\n",
       "\n",
       "    .dataframe tbody tr th {\n",
       "        vertical-align: top;\n",
       "    }\n",
       "\n",
       "    .dataframe thead th {\n",
       "        text-align: right;\n",
       "    }\n",
       "</style>\n",
       "<table border=\"1\" class=\"dataframe\">\n",
       "  <thead>\n",
       "    <tr style=\"text-align: right;\">\n",
       "      <th></th>\n",
       "      <th>city</th>\n",
       "      <th>coastline</th>\n",
       "      <th>lake</th>\n",
       "      <th>river</th>\n",
       "      <th>vegetation</th>\n",
       "      <th>Avg</th>\n",
       "    </tr>\n",
       "  </thead>\n",
       "  <tbody>\n",
       "    <tr>\n",
       "      <th>accuracy</th>\n",
       "      <td>0.972000</td>\n",
       "      <td>0.962000</td>\n",
       "      <td>0.932000</td>\n",
       "      <td>0.940000</td>\n",
       "      <td>0.942000</td>\n",
       "      <td>0.949600</td>\n",
       "    </tr>\n",
       "    <tr>\n",
       "      <th>precision</th>\n",
       "      <td>0.968085</td>\n",
       "      <td>0.853448</td>\n",
       "      <td>0.929577</td>\n",
       "      <td>0.791667</td>\n",
       "      <td>0.868687</td>\n",
       "      <td>0.882293</td>\n",
       "    </tr>\n",
       "    <tr>\n",
       "      <th>recall</th>\n",
       "      <td>0.892157</td>\n",
       "      <td>0.980198</td>\n",
       "      <td>0.694737</td>\n",
       "      <td>0.950000</td>\n",
       "      <td>0.843137</td>\n",
       "      <td>0.872046</td>\n",
       "    </tr>\n",
       "    <tr>\n",
       "      <th>f1_score</th>\n",
       "      <td>0.928571</td>\n",
       "      <td>0.912442</td>\n",
       "      <td>0.795181</td>\n",
       "      <td>0.863636</td>\n",
       "      <td>0.855721</td>\n",
       "      <td>0.871110</td>\n",
       "    </tr>\n",
       "    <tr>\n",
       "      <th>Omission Error</th>\n",
       "      <td>0.000000</td>\n",
       "      <td>20.000000</td>\n",
       "      <td>50.000000</td>\n",
       "      <td>25.000000</td>\n",
       "      <td>25.000000</td>\n",
       "      <td>24.000000</td>\n",
       "    </tr>\n",
       "  </tbody>\n",
       "</table>\n",
       "</div>"
      ],
      "text/plain": [
       "                    city  coastline       lake      river  vegetation  \\\n",
       "accuracy        0.972000   0.962000   0.932000   0.940000    0.942000   \n",
       "precision       0.968085   0.853448   0.929577   0.791667    0.868687   \n",
       "recall          0.892157   0.980198   0.694737   0.950000    0.843137   \n",
       "f1_score        0.928571   0.912442   0.795181   0.863636    0.855721   \n",
       "Omission Error  0.000000  20.000000  50.000000  25.000000   25.000000   \n",
       "\n",
       "                      Avg  \n",
       "accuracy         0.949600  \n",
       "precision        0.882293  \n",
       "recall           0.872046  \n",
       "f1_score         0.871110  \n",
       "Omission Error  24.000000  "
      ]
     },
     "execution_count": 99,
     "metadata": {},
     "output_type": "execute_result"
    }
   ],
   "source": [
    "dfsml = evaluate_matrix(np.array(late_truth),np.array(late_weight))\n",
    "dfsml"
   ]
  },
  {
   "cell_type": "code",
   "execution_count": null,
   "id": "a4e68a6c",
   "metadata": {},
   "outputs": [],
   "source": []
  }
 ],
 "metadata": {
  "kernelspec": {
   "display_name": "Python 3 (ipykernel)",
   "language": "python",
   "name": "python3"
  },
  "language_info": {
   "codemirror_mode": {
    "name": "ipython",
    "version": 3
   },
   "file_extension": ".py",
   "mimetype": "text/x-python",
   "name": "python",
   "nbconvert_exporter": "python",
   "pygments_lexer": "ipython3",
   "version": "3.9.6"
  }
 },
 "nbformat": 4,
 "nbformat_minor": 5
}
